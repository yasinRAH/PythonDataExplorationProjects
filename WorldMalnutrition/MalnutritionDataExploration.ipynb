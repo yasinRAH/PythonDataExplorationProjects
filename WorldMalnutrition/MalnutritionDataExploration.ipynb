{
 "cells": [
  {
   "cell_type": "markdown",
   "metadata": {},
   "source": [
    "# World malnutrition accross the globe"
   ]
  },
  {
   "cell_type": "markdown",
   "metadata": {},
   "source": [
    "data taken from kaggle: https://www.kaggle.com/ruchi798/malnutrition-across-the-globe"
   ]
  },
  {
   "cell_type": "code",
   "execution_count": 1,
   "metadata": {},
   "outputs": [],
   "source": [
    "import pandas as pd \n",
    "import numpy as np"
   ]
  },
  {
   "cell_type": "code",
   "execution_count": 2,
   "metadata": {},
   "outputs": [],
   "source": [
    "import seaborn as sns\n",
    "import matplotlib.pyplot as plt\n",
    "sns.set_style('whitegrid')"
   ]
  },
  {
   "cell_type": "code",
   "execution_count": 3,
   "metadata": {},
   "outputs": [
    {
     "data": {
      "text/html": [
       "        <script type=\"text/javascript\">\n",
       "        window.PlotlyConfig = {MathJaxConfig: 'local'};\n",
       "        if (window.MathJax) {MathJax.Hub.Config({SVG: {font: \"STIX-Web\"}});}\n",
       "        if (typeof require !== 'undefined') {\n",
       "        require.undef(\"plotly\");\n",
       "        requirejs.config({\n",
       "            paths: {\n",
       "                'plotly': ['https://cdn.plot.ly/plotly-latest.min']\n",
       "            }\n",
       "        });\n",
       "        require(['plotly'], function(Plotly) {\n",
       "            window._Plotly = Plotly;\n",
       "        });\n",
       "        }\n",
       "        </script>\n",
       "        "
      ]
     },
     "metadata": {},
     "output_type": "display_data"
    },
    {
     "data": {
      "text/html": [
       "        <script type=\"text/javascript\">\n",
       "        window.PlotlyConfig = {MathJaxConfig: 'local'};\n",
       "        if (window.MathJax) {MathJax.Hub.Config({SVG: {font: \"STIX-Web\"}});}\n",
       "        if (typeof require !== 'undefined') {\n",
       "        require.undef(\"plotly\");\n",
       "        requirejs.config({\n",
       "            paths: {\n",
       "                'plotly': ['https://cdn.plot.ly/plotly-latest.min']\n",
       "            }\n",
       "        });\n",
       "        require(['plotly'], function(Plotly) {\n",
       "            window._Plotly = Plotly;\n",
       "        });\n",
       "        }\n",
       "        </script>\n",
       "        "
      ]
     },
     "metadata": {},
     "output_type": "display_data"
    }
   ],
   "source": [
    "import plotly\n",
    "import cufflinks as cf\n",
    "from plotly.offline import download_plotlyjs,init_notebook_mode,plot,iplot\n",
    "init_notebook_mode(connected=True)\n",
    "cf.go_offline()\n",
    "%matplotlib inline"
   ]
  },
  {
   "cell_type": "code",
   "execution_count": 4,
   "metadata": {},
   "outputs": [],
   "source": [
    "#individual estimates for countries for each year in dataframe\n",
    "mal = pd.read_csv(\"malnutrition-estimates.csv\", index_col=[0])\n",
    "#Country-wise estimates for all years\n",
    "avg_mal = pd.read_csv(\"country-wise-average.csv\", index_col=[0])"
   ]
  },
  {
   "cell_type": "code",
   "execution_count": 5,
   "metadata": {},
   "outputs": [
    {
     "data": {
      "text/html": [
       "<div>\n",
       "<style scoped>\n",
       "    .dataframe tbody tr th:only-of-type {\n",
       "        vertical-align: middle;\n",
       "    }\n",
       "\n",
       "    .dataframe tbody tr th {\n",
       "        vertical-align: top;\n",
       "    }\n",
       "\n",
       "    .dataframe thead th {\n",
       "        text-align: right;\n",
       "    }\n",
       "</style>\n",
       "<table border=\"1\" class=\"dataframe\">\n",
       "  <thead>\n",
       "    <tr style=\"text-align: right;\">\n",
       "      <th></th>\n",
       "      <th>ISO code</th>\n",
       "      <th>Country</th>\n",
       "      <th>Survey Year</th>\n",
       "      <th>Year</th>\n",
       "      <th>Income Classification</th>\n",
       "      <th>LDC</th>\n",
       "      <th>LIFD</th>\n",
       "      <th>LLDC or SID2</th>\n",
       "      <th>Survey Sample (N)</th>\n",
       "      <th>Severe Wasting</th>\n",
       "      <th>Wasting</th>\n",
       "      <th>Overweight</th>\n",
       "      <th>Stunting</th>\n",
       "      <th>Underweight</th>\n",
       "      <th>Notes</th>\n",
       "      <th>Report Author</th>\n",
       "      <th>Source</th>\n",
       "      <th>Short Source</th>\n",
       "      <th>U5 Population ('000s)</th>\n",
       "    </tr>\n",
       "  </thead>\n",
       "  <tbody>\n",
       "    <tr>\n",
       "      <th>0</th>\n",
       "      <td>AFG</td>\n",
       "      <td>AFGHANISTAN</td>\n",
       "      <td>1997</td>\n",
       "      <td>1997</td>\n",
       "      <td>0</td>\n",
       "      <td>1.0</td>\n",
       "      <td>1.0</td>\n",
       "      <td>1.0</td>\n",
       "      <td>4,846</td>\n",
       "      <td>NaN</td>\n",
       "      <td>18.2</td>\n",
       "      <td>6.5</td>\n",
       "      <td>53.2</td>\n",
       "      <td>44.9</td>\n",
       "      <td>Converted estimates</td>\n",
       "      <td>CIET International</td>\n",
       "      <td>Afghanistan 1997 multiple indicator baseline (...</td>\n",
       "      <td>MICS</td>\n",
       "      <td>3838.877</td>\n",
       "    </tr>\n",
       "    <tr>\n",
       "      <th>1</th>\n",
       "      <td>AFG</td>\n",
       "      <td>AFGHANISTAN</td>\n",
       "      <td>2004</td>\n",
       "      <td>2004</td>\n",
       "      <td>0</td>\n",
       "      <td>1.0</td>\n",
       "      <td>1.0</td>\n",
       "      <td>1.0</td>\n",
       "      <td>946</td>\n",
       "      <td>3.5</td>\n",
       "      <td>8.6</td>\n",
       "      <td>4.6</td>\n",
       "      <td>59.3</td>\n",
       "      <td>32.9</td>\n",
       "      <td>NaN</td>\n",
       "      <td>Ministry of Public Health (Afghanistan), UNICE...</td>\n",
       "      <td>Summary report of the national nutrition surve...</td>\n",
       "      <td>NNS</td>\n",
       "      <td>4789.353</td>\n",
       "    </tr>\n",
       "    <tr>\n",
       "      <th>2</th>\n",
       "      <td>AFG</td>\n",
       "      <td>AFGHANISTAN</td>\n",
       "      <td>2013</td>\n",
       "      <td>2013</td>\n",
       "      <td>0</td>\n",
       "      <td>1.0</td>\n",
       "      <td>1.0</td>\n",
       "      <td>1.0</td>\n",
       "      <td>44,26,469</td>\n",
       "      <td>4.0</td>\n",
       "      <td>9.5</td>\n",
       "      <td>5.3</td>\n",
       "      <td>40.4</td>\n",
       "      <td>24.6</td>\n",
       "      <td>NaN</td>\n",
       "      <td>Ministry of Public Health, UNICEF and the Aga ...</td>\n",
       "      <td>Afghanistan National Nutrition Survey 2013.</td>\n",
       "      <td>SMART</td>\n",
       "      <td>5444.573</td>\n",
       "    </tr>\n",
       "    <tr>\n",
       "      <th>3</th>\n",
       "      <td>AFG</td>\n",
       "      <td>AFGHANISTAN</td>\n",
       "      <td>2018</td>\n",
       "      <td>2018</td>\n",
       "      <td>0</td>\n",
       "      <td>1.0</td>\n",
       "      <td>1.0</td>\n",
       "      <td>1.0</td>\n",
       "      <td>NaN</td>\n",
       "      <td>1.6</td>\n",
       "      <td>5.1</td>\n",
       "      <td>4.1</td>\n",
       "      <td>38.2</td>\n",
       "      <td>19.1</td>\n",
       "      <td>NaN</td>\n",
       "      <td>KIT Royal Tropical Institute</td>\n",
       "      <td>Afghanistan Health Survey 2018</td>\n",
       "      <td>Other</td>\n",
       "      <td>5601.443</td>\n",
       "    </tr>\n",
       "    <tr>\n",
       "      <th>4</th>\n",
       "      <td>ALB</td>\n",
       "      <td>ALBANIA</td>\n",
       "      <td>1996-98</td>\n",
       "      <td>1997</td>\n",
       "      <td>2</td>\n",
       "      <td>0.0</td>\n",
       "      <td>0.0</td>\n",
       "      <td>0.0</td>\n",
       "      <td>7,642</td>\n",
       "      <td>NaN</td>\n",
       "      <td>8.1</td>\n",
       "      <td>9.5</td>\n",
       "      <td>20.4</td>\n",
       "      <td>7.1</td>\n",
       "      <td>Converted estimates</td>\n",
       "      <td>Institute of Public Health, Food and Nutrition...</td>\n",
       "      <td>National study on nutrition in Albania. Instit...</td>\n",
       "      <td>Other</td>\n",
       "      <td>309.225</td>\n",
       "    </tr>\n",
       "  </tbody>\n",
       "</table>\n",
       "</div>"
      ],
      "text/plain": [
       "  ISO code      Country Survey Year  Year  Income Classification  LDC  LIFD  \\\n",
       "0      AFG  AFGHANISTAN        1997  1997                      0  1.0   1.0   \n",
       "1      AFG  AFGHANISTAN        2004  2004                      0  1.0   1.0   \n",
       "2      AFG  AFGHANISTAN        2013  2013                      0  1.0   1.0   \n",
       "3      AFG  AFGHANISTAN        2018  2018                      0  1.0   1.0   \n",
       "4      ALB      ALBANIA     1996-98  1997                      2  0.0   0.0   \n",
       "\n",
       "   LLDC or SID2 Survey Sample (N)  Severe Wasting  Wasting  Overweight  \\\n",
       "0           1.0             4,846             NaN     18.2         6.5   \n",
       "1           1.0               946             3.5      8.6         4.6   \n",
       "2           1.0         44,26,469             4.0      9.5         5.3   \n",
       "3           1.0               NaN             1.6      5.1         4.1   \n",
       "4           0.0             7,642             NaN      8.1         9.5   \n",
       "\n",
       "   Stunting  Underweight                Notes  \\\n",
       "0      53.2         44.9  Converted estimates   \n",
       "1      59.3         32.9                  NaN   \n",
       "2      40.4         24.6                  NaN   \n",
       "3      38.2         19.1                  NaN   \n",
       "4      20.4          7.1  Converted estimates   \n",
       "\n",
       "                                       Report Author  \\\n",
       "0                                 CIET International   \n",
       "1  Ministry of Public Health (Afghanistan), UNICE...   \n",
       "2  Ministry of Public Health, UNICEF and the Aga ...   \n",
       "3                       KIT Royal Tropical Institute   \n",
       "4  Institute of Public Health, Food and Nutrition...   \n",
       "\n",
       "                                              Source Short Source  \\\n",
       "0  Afghanistan 1997 multiple indicator baseline (...         MICS   \n",
       "1  Summary report of the national nutrition surve...          NNS   \n",
       "2        Afghanistan National Nutrition Survey 2013.        SMART   \n",
       "3                     Afghanistan Health Survey 2018        Other   \n",
       "4  National study on nutrition in Albania. Instit...        Other   \n",
       "\n",
       "   U5 Population ('000s)  \n",
       "0               3838.877  \n",
       "1               4789.353  \n",
       "2               5444.573  \n",
       "3               5601.443  \n",
       "4                309.225  "
      ]
     },
     "execution_count": 5,
     "metadata": {},
     "output_type": "execute_result"
    }
   ],
   "source": [
    "mal.head()"
   ]
  },
  {
   "cell_type": "code",
   "execution_count": 6,
   "metadata": {},
   "outputs": [
    {
     "data": {
      "text/html": [
       "<div>\n",
       "<style scoped>\n",
       "    .dataframe tbody tr th:only-of-type {\n",
       "        vertical-align: middle;\n",
       "    }\n",
       "\n",
       "    .dataframe tbody tr th {\n",
       "        vertical-align: top;\n",
       "    }\n",
       "\n",
       "    .dataframe thead th {\n",
       "        text-align: right;\n",
       "    }\n",
       "</style>\n",
       "<table border=\"1\" class=\"dataframe\">\n",
       "  <thead>\n",
       "    <tr style=\"text-align: right;\">\n",
       "      <th></th>\n",
       "      <th>Income Classification</th>\n",
       "      <th>Severe Wasting</th>\n",
       "      <th>Wasting</th>\n",
       "      <th>Overweight</th>\n",
       "      <th>Stunting</th>\n",
       "      <th>Underweight</th>\n",
       "      <th>U5 Population ('000s)</th>\n",
       "    </tr>\n",
       "    <tr>\n",
       "      <th>Country</th>\n",
       "      <th></th>\n",
       "      <th></th>\n",
       "      <th></th>\n",
       "      <th></th>\n",
       "      <th></th>\n",
       "      <th></th>\n",
       "      <th></th>\n",
       "    </tr>\n",
       "  </thead>\n",
       "  <tbody>\n",
       "    <tr>\n",
       "      <th>AFGHANISTAN</th>\n",
       "      <td>0.0</td>\n",
       "      <td>3.033333</td>\n",
       "      <td>10.350000</td>\n",
       "      <td>5.125000</td>\n",
       "      <td>47.775000</td>\n",
       "      <td>30.375000</td>\n",
       "      <td>4918.561500</td>\n",
       "    </tr>\n",
       "    <tr>\n",
       "      <th>ALBANIA</th>\n",
       "      <td>2.0</td>\n",
       "      <td>4.075000</td>\n",
       "      <td>7.760000</td>\n",
       "      <td>20.800000</td>\n",
       "      <td>24.160000</td>\n",
       "      <td>7.700000</td>\n",
       "      <td>232.859800</td>\n",
       "    </tr>\n",
       "    <tr>\n",
       "      <th>ALGERIA</th>\n",
       "      <td>2.0</td>\n",
       "      <td>2.733333</td>\n",
       "      <td>5.942857</td>\n",
       "      <td>12.833333</td>\n",
       "      <td>19.571429</td>\n",
       "      <td>7.342857</td>\n",
       "      <td>3565.213143</td>\n",
       "    </tr>\n",
       "    <tr>\n",
       "      <th>ANGOLA</th>\n",
       "      <td>1.0</td>\n",
       "      <td>2.400000</td>\n",
       "      <td>6.933333</td>\n",
       "      <td>2.550000</td>\n",
       "      <td>42.633333</td>\n",
       "      <td>23.600000</td>\n",
       "      <td>3980.054000</td>\n",
       "    </tr>\n",
       "    <tr>\n",
       "      <th>ARGENTINA</th>\n",
       "      <td>2.0</td>\n",
       "      <td>0.200000</td>\n",
       "      <td>2.150000</td>\n",
       "      <td>11.125000</td>\n",
       "      <td>10.025000</td>\n",
       "      <td>2.600000</td>\n",
       "      <td>3613.651750</td>\n",
       "    </tr>\n",
       "  </tbody>\n",
       "</table>\n",
       "</div>"
      ],
      "text/plain": [
       "             Income Classification  Severe Wasting    Wasting  Overweight  \\\n",
       "Country                                                                     \n",
       "AFGHANISTAN                    0.0        3.033333  10.350000    5.125000   \n",
       "ALBANIA                        2.0        4.075000   7.760000   20.800000   \n",
       "ALGERIA                        2.0        2.733333   5.942857   12.833333   \n",
       "ANGOLA                         1.0        2.400000   6.933333    2.550000   \n",
       "ARGENTINA                      2.0        0.200000   2.150000   11.125000   \n",
       "\n",
       "              Stunting  Underweight  U5 Population ('000s)  \n",
       "Country                                                     \n",
       "AFGHANISTAN  47.775000    30.375000            4918.561500  \n",
       "ALBANIA      24.160000     7.700000             232.859800  \n",
       "ALGERIA      19.571429     7.342857            3565.213143  \n",
       "ANGOLA       42.633333    23.600000            3980.054000  \n",
       "ARGENTINA    10.025000     2.600000            3613.651750  "
      ]
     },
     "execution_count": 6,
     "metadata": {},
     "output_type": "execute_result"
    }
   ],
   "source": [
    "avg_mal.head()"
   ]
  },
  {
   "cell_type": "markdown",
   "metadata": {},
   "source": [
    "## Questions\n",
    "- Was there a decline or rise in the number of malnutrition cases country-wise?\n",
    "- Which countries bear the greatest share of all forms of malnutrition?\n",
    "- % of stunted, overweight and wasted children under 5, by country income classification"
   ]
  },
  {
   "cell_type": "code",
   "execution_count": 7,
   "metadata": {},
   "outputs": [
    {
     "data": {
      "text/plain": [
       "Country\n",
       "SOUTH SUDAN    23.650000\n",
       "INDIA          18.766667\n",
       "DJIBOUTI       17.075000\n",
       "MAURITIUS      17.000000\n",
       "NIGER (THE)    15.936364\n",
       "Name: Wasting, dtype: float64"
      ]
     },
     "execution_count": 7,
     "metadata": {},
     "output_type": "execute_result"
    }
   ],
   "source": [
    "#What countries have the most wasting on average?\n",
    "avg_mal.sort_values(\"Wasting\", ascending=False)[\"Wasting\"].head()"
   ]
  },
  {
   "cell_type": "code",
   "execution_count": 8,
   "metadata": {},
   "outputs": [
    {
     "data": {
      "text/plain": [
       "Country\n",
       "BURUNDI        57.600000\n",
       "TIMOR-LESTE    55.380000\n",
       "BANGLADESH     54.229167\n",
       "GUATEMALA      54.100000\n",
       "ERITREA        53.225000\n",
       "Name: Stunting, dtype: float64"
      ]
     },
     "execution_count": 8,
     "metadata": {},
     "output_type": "execute_result"
    }
   ],
   "source": [
    "#What countries are most stunting on average?\n",
    "avg_mal.sort_values(\"Stunting\", ascending=False)[\"Stunting\"].head()"
   ]
  },
  {
   "cell_type": "code",
   "execution_count": 9,
   "metadata": {},
   "outputs": [
    {
     "data": {
      "text/plain": [
       "Country\n",
       "BANGLADESH     46.266667\n",
       "INDIA          42.977778\n",
       "TIMOR-LESTE    42.800000\n",
       "NIGER (THE)    38.263636\n",
       "YEMEN          37.785714\n",
       "Name: Underweight, dtype: float64"
      ]
     },
     "execution_count": 9,
     "metadata": {},
     "output_type": "execute_result"
    }
   ],
   "source": [
    "#What are the countries with the most underweight?\n",
    "avg_mal.sort_values(\"Underweight\", ascending=False)[\"Underweight\"].head()"
   ]
  },
  {
   "cell_type": "code",
   "execution_count": 10,
   "metadata": {},
   "outputs": [
    {
     "data": {
      "text/plain": [
       "Country\n",
       "UKRAINE                   26.500000\n",
       "LIBYA                     21.800000\n",
       "ALBANIA                   20.800000\n",
       "BOSNIA AND HERZEGOVINA    19.800000\n",
       "GEORGIA                   19.533333\n",
       "Name: Overweight, dtype: float64"
      ]
     },
     "execution_count": 10,
     "metadata": {},
     "output_type": "execute_result"
    }
   ],
   "source": [
    "#What are the countries with the most overweight?\n",
    "avg_mal.sort_values(\"Overweight\", ascending=False)[\"Overweight\"].head()"
   ]
  },
  {
   "cell_type": "code",
   "execution_count": 11,
   "metadata": {},
   "outputs": [
    {
     "data": {
      "text/html": [
       "<div>\n",
       "<style scoped>\n",
       "    .dataframe tbody tr th:only-of-type {\n",
       "        vertical-align: middle;\n",
       "    }\n",
       "\n",
       "    .dataframe tbody tr th {\n",
       "        vertical-align: top;\n",
       "    }\n",
       "\n",
       "    .dataframe thead th {\n",
       "        text-align: right;\n",
       "    }\n",
       "</style>\n",
       "<table border=\"1\" class=\"dataframe\">\n",
       "  <thead>\n",
       "    <tr style=\"text-align: right;\">\n",
       "      <th></th>\n",
       "      <th>Income Classification</th>\n",
       "      <th>Severe Wasting</th>\n",
       "      <th>Wasting</th>\n",
       "      <th>Overweight</th>\n",
       "      <th>Stunting</th>\n",
       "      <th>Underweight</th>\n",
       "      <th>U5 Population ('000s)</th>\n",
       "    </tr>\n",
       "  </thead>\n",
       "  <tbody>\n",
       "    <tr>\n",
       "      <th>Income Classification</th>\n",
       "      <td>1.000000</td>\n",
       "      <td>-0.462363</td>\n",
       "      <td>-0.510417</td>\n",
       "      <td>0.295214</td>\n",
       "      <td>-0.761266</td>\n",
       "      <td>-0.658230</td>\n",
       "      <td>-0.038979</td>\n",
       "    </tr>\n",
       "    <tr>\n",
       "      <th>Severe Wasting</th>\n",
       "      <td>-0.462363</td>\n",
       "      <td>1.000000</td>\n",
       "      <td>0.895511</td>\n",
       "      <td>-0.035531</td>\n",
       "      <td>0.486065</td>\n",
       "      <td>0.647534</td>\n",
       "      <td>0.149094</td>\n",
       "    </tr>\n",
       "    <tr>\n",
       "      <th>Wasting</th>\n",
       "      <td>-0.510417</td>\n",
       "      <td>0.895511</td>\n",
       "      <td>1.000000</td>\n",
       "      <td>-0.282840</td>\n",
       "      <td>0.580983</td>\n",
       "      <td>0.823864</td>\n",
       "      <td>0.184051</td>\n",
       "    </tr>\n",
       "    <tr>\n",
       "      <th>Overweight</th>\n",
       "      <td>0.295214</td>\n",
       "      <td>-0.035531</td>\n",
       "      <td>-0.282840</td>\n",
       "      <td>1.000000</td>\n",
       "      <td>-0.364568</td>\n",
       "      <td>-0.525527</td>\n",
       "      <td>-0.113036</td>\n",
       "    </tr>\n",
       "    <tr>\n",
       "      <th>Stunting</th>\n",
       "      <td>-0.761266</td>\n",
       "      <td>0.486065</td>\n",
       "      <td>0.580983</td>\n",
       "      <td>-0.364568</td>\n",
       "      <td>1.000000</td>\n",
       "      <td>0.864643</td>\n",
       "      <td>0.154244</td>\n",
       "    </tr>\n",
       "    <tr>\n",
       "      <th>Underweight</th>\n",
       "      <td>-0.658230</td>\n",
       "      <td>0.647534</td>\n",
       "      <td>0.823864</td>\n",
       "      <td>-0.525527</td>\n",
       "      <td>0.864643</td>\n",
       "      <td>1.000000</td>\n",
       "      <td>0.234327</td>\n",
       "    </tr>\n",
       "    <tr>\n",
       "      <th>U5 Population ('000s)</th>\n",
       "      <td>-0.038979</td>\n",
       "      <td>0.149094</td>\n",
       "      <td>0.184051</td>\n",
       "      <td>-0.113036</td>\n",
       "      <td>0.154244</td>\n",
       "      <td>0.234327</td>\n",
       "      <td>1.000000</td>\n",
       "    </tr>\n",
       "  </tbody>\n",
       "</table>\n",
       "</div>"
      ],
      "text/plain": [
       "                       Income Classification  Severe Wasting   Wasting  \\\n",
       "Income Classification               1.000000       -0.462363 -0.510417   \n",
       "Severe Wasting                     -0.462363        1.000000  0.895511   \n",
       "Wasting                            -0.510417        0.895511  1.000000   \n",
       "Overweight                          0.295214       -0.035531 -0.282840   \n",
       "Stunting                           -0.761266        0.486065  0.580983   \n",
       "Underweight                        -0.658230        0.647534  0.823864   \n",
       "U5 Population ('000s)              -0.038979        0.149094  0.184051   \n",
       "\n",
       "                       Overweight  Stunting  Underweight  \\\n",
       "Income Classification    0.295214 -0.761266    -0.658230   \n",
       "Severe Wasting          -0.035531  0.486065     0.647534   \n",
       "Wasting                 -0.282840  0.580983     0.823864   \n",
       "Overweight               1.000000 -0.364568    -0.525527   \n",
       "Stunting                -0.364568  1.000000     0.864643   \n",
       "Underweight             -0.525527  0.864643     1.000000   \n",
       "U5 Population ('000s)   -0.113036  0.154244     0.234327   \n",
       "\n",
       "                       U5 Population ('000s)  \n",
       "Income Classification              -0.038979  \n",
       "Severe Wasting                      0.149094  \n",
       "Wasting                             0.184051  \n",
       "Overweight                         -0.113036  \n",
       "Stunting                            0.154244  \n",
       "Underweight                         0.234327  \n",
       "U5 Population ('000s)               1.000000  "
      ]
     },
     "execution_count": 11,
     "metadata": {},
     "output_type": "execute_result"
    }
   ],
   "source": [
    "#Are there correlations between each category?\n",
    "avg_mal.corr()"
   ]
  },
  {
   "cell_type": "code",
   "execution_count": 12,
   "metadata": {},
   "outputs": [
    {
     "data": {
      "text/plain": [
       "<AxesSubplot:>"
      ]
     },
     "execution_count": 12,
     "metadata": {},
     "output_type": "execute_result"
    },
    {
     "data": {
      "image/png": "[encoded data removed]",
      "text/plain": [
       "<Figure size 432x288 with 2 Axes>"
      ]
     },
     "metadata": {
      "needs_background": "light"
     },
     "output_type": "display_data"
    }
   ],
   "source": [
    "sns.heatmap(avg_mal.corr(), cmap=\"coolwarm\")"
   ]
  },
  {
   "cell_type": "code",
   "execution_count": 13,
   "metadata": {},
   "outputs": [
    {
     "data": {
      "text/plain": [
       "<seaborn.matrix.ClusterGrid at 0x146291f9af0>"
      ]
     },
     "execution_count": 13,
     "metadata": {},
     "output_type": "execute_result"
    },
    {
     "data": {
      "image/png": "[encoded data removed]",
      "text/plain": [
       "<Figure size 720x720 with 4 Axes>"
      ]
     },
     "metadata": {
      "needs_background": "light"
     },
     "output_type": "display_data"
    }
   ],
   "source": [
    "sns.clustermap(avg_mal.corr(), cmap=\"coolwarm\")"
   ]
  },
  {
   "cell_type": "markdown",
   "metadata": {},
   "source": [
    "high correlations:\n",
    "- stunting and underweight\n",
    "- underweight and waisting\n",
    "- stunting and wasting\n",
    "\n",
    "low correlation:\n",
    "- income class and underweight\n",
    "- income class and stunting\n",
    "- income class and wasting"
   ]
  },
  {
   "cell_type": "code",
   "execution_count": 16,
   "metadata": {},
   "outputs": [
    {
     "data": {
      "text/plain": [
       "<seaborn.axisgrid.FacetGrid at 0x1462949eb80>"
      ]
     },
     "execution_count": 16,
     "metadata": {},
     "output_type": "execute_result"
    },
    {
     "data": {
      "image/png": "[encoded data removed]",
      "text/plain": [
       "<Figure size 360x360 with 1 Axes>"
      ]
     },
     "metadata": {
      "needs_background": "light"
     },
     "output_type": "display_data"
    }
   ],
   "source": [
    "sns.relplot(y=\"Wasting\", x=\"Income Classification\", data=avg_mal)"
   ]
  },
  {
   "cell_type": "code",
   "execution_count": null,
   "metadata": {},
   "outputs": [],
   "source": []
  }
 ],
 "metadata": {
  "kernelspec": {
   "display_name": "Python 3",
   "language": "python",
   "name": "python3"
  },
  "language_info": {
   "codemirror_mode": {
    "name": "ipython",
    "version": 3
   },
   "file_extension": ".py",
   "mimetype": "text/x-python",
   "name": "python",
   "nbconvert_exporter": "python",
   "pygments_lexer": "ipython3",
   "version": "3.8.5"
  }
 },
 "nbformat": 4,
 "nbformat_minor": 4
}
